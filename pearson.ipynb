{
 "cells": [
  {
   "cell_type": "code",
   "execution_count": 7,
   "metadata": {},
   "outputs": [],
   "source": [
    "import pandas as pd\n",
    "import numpy as np\n",
    "\n",
    "from scipy.stats import pearsonr\n",
    "from sqlalchemy import create_engine # Needed for DB connection\n",
    "from configparser import ConfigParser"
   ]
  },
  {
   "cell_type": "code",
   "execution_count": 8,
   "metadata": {},
   "outputs": [],
   "source": [
    "def establish_connection():\n",
    "    config = ConfigParser()\n",
    "    config.read('config.ini')\n",
    "\n",
    "    # Database settings\n",
    "    driver = config.get('main', 'driver')\n",
    "    username = config.get('main', 'username')\n",
    "    dbname = config.get('main', 'dbname')\n",
    "    password = config.get('main', 'password')\n",
    "    server = config.get('main', 'server')\n",
    "    port = config.get('main', 'port')\n",
    "\n",
    "    # Creating the connection pool for SQL\n",
    "    return create_engine(f'{driver}://{username}:{password}@{server}:{port}/{dbname}')"
   ]
  },
  {
   "cell_type": "code",
   "execution_count": 9,
   "metadata": {},
   "outputs": [],
   "source": [
    "def get_data(engine, table):\n",
    "    with engine.connect() as conn:\n",
    "        return pd.DataFrame(conn.execute('SELECT * FROM project.'+table).all())"
   ]
  },
  {
   "cell_type": "code",
   "execution_count": 10,
   "metadata": {},
   "outputs": [],
   "source": [
    "engine = establish_connection()\n",
    "\n",
    "# Load tables\n",
    "match = get_data(engine, 'match')\n",
    "team = get_data(engine, 'team')\n",
    "team_stats = get_data(engine, 'team_stats')\n",
    "penalty = get_data(engine, 'penalty')"
   ]
  },
  {
   "cell_type": "code",
   "execution_count": 11,
   "metadata": {},
   "outputs": [],
   "source": [
    "columns_to_loop = team_stats.columns[2:]\n",
    "correlations = pd.DataFrame() \n",
    "\n",
    "# Loop all the colum\n",
    "for column in columns_to_loop:\n",
    "    for column_compare in columns_to_loop:\n",
    "        # Check if it's already present or it's the same column\n",
    "        if((column != column_compare) & ((column_compare+\" and \"+column) not in correlations.columns)):\n",
    "            # Retrieve the data \n",
    "            pair = team_stats.loc[(team_stats[column] >= 0) & (team_stats[column_compare] >= 0)]\n",
    "            \n",
    "            # Transform the data to numpy arrays\n",
    "            first_list = pair[column].to_numpy()\n",
    "            second_list = pair[column_compare].to_numpy()\n",
    "            # Compute the Pearson correlation between the retrieved columns\n",
    "            correlations[column+\" and \"+column_compare] = pearsonr(first_list, second_list)\n"
   ]
  },
  {
   "cell_type": "code",
   "execution_count": 12,
   "metadata": {},
   "outputs": [
    {
     "name": "stdout",
     "output_type": "stream",
     "text": [
      "shots and shots_on_target            0.940615\n",
      "score and shots_on_target            0.695455\n",
      "score and shots                      0.627151\n",
      "shots_on_target and shot_accuracy    0.532858\n",
      "shots and corners                    0.521955\n",
      "shots_on_target and corners          0.485912\n",
      "shots and tackles                    0.458591\n",
      "possession and pass_accuracy         0.454824\n",
      "shots_on_target and tackles          0.404301\n",
      "shots and shot_accuracy              0.364180\n",
      "possession and shot_accuracy         0.350556\n",
      "tackles and fouls                    0.330530\n",
      "shots_on_target and possession       0.318266\n",
      "score and possession                 0.317552\n",
      "shots and possession                 0.305954\n",
      "score and shot_accuracy              0.290048\n",
      "tackles and corners                  0.267402\n",
      "shot_accuracy and pass_accuracy      0.216637\n",
      "corners and shot_accuracy            0.187327\n",
      "tackles and shot_accuracy            0.181126\n",
      "shots and fouls                      0.180586\n",
      "score and pass_accuracy              0.173513\n",
      "shots_on_target and pass_accuracy    0.164795\n",
      "shots_on_target and fouls            0.152755\n",
      "shots and pass_accuracy              0.147885\n",
      "possession and corners               0.108669\n",
      "fouls and corners                    0.067109\n",
      "score and corners                    0.059542\n",
      "fouls and shot_accuracy              0.044874\n",
      "score and tackles                   -0.002006\n",
      "corners and pass_accuracy           -0.017286\n",
      "score and fouls                     -0.034926\n",
      "possession and tackles              -0.042432\n",
      "possession and fouls                -0.088279\n",
      "fouls and pass_accuracy             -0.129066\n",
      "tackles and pass_accuracy           -0.176426\n",
      "Name: 0, dtype: float64\n"
     ]
    }
   ],
   "source": [
    "import csv\n",
    "# Order the correlations\n",
    "ordered_correlations = correlations.iloc[0].sort_values(ascending=False)\n",
    "\n",
    "# Save the correlation to file\n",
    "ordered_correlations.to_csv('pearson_corr.csv', header=False)\n",
    "\n",
    "# Print the correlations\n",
    "print(ordered_correlations)"
   ]
  },
  {
   "cell_type": "code",
   "execution_count": 13,
   "metadata": {},
   "outputs": [
    {
     "data": {
      "image/png": "[encoded data removed]",
      "text/plain": [
       "<Figure size 1008x504 with 1 Axes>"
      ]
     },
     "metadata": {
      "needs_background": "light"
     },
     "output_type": "display_data"
    }
   ],
   "source": [
    "import matplotlib.pyplot as plt\n",
    "\n",
    "plt.figure(figsize=(14,7)) # Make it 14x7 inch\n",
    "plt.style.use('seaborn-whitegrid')\n",
    "n, bins, patches = plt.hist(ordered_correlations, facecolor = '#2ab0ff', edgecolor='#169acf', linewidth=0.5)\n",
    "\n",
    "# Adds colors to the plot depending on the intensity\n",
    "for i in range(len(patches)):\n",
    "    patches[i].set_facecolor(plt.cm.viridis(n[i]/max(n)))\n",
    "\n",
    "# Add annotation\n",
    "plt.title('Correlations distribution') \n",
    "plt.xlabel('Pearson Coefficient') \n",
    "plt.ylabel('Number of columns with a certain range of correlation') \n",
    "plt.show()"
   ]
  }
 ],
 "metadata": {
  "interpreter": {
   "hash": "3556cb6ed6dabe3da76a9a6b4fe1fda81306f7b3363884a4fa76b70a9233c560"
  },
  "kernelspec": {
   "display_name": "Python 3.10.4 64-bit (windows store)",
   "language": "python",
   "name": "python3"
  },
  "language_info": {
   "codemirror_mode": {
    "name": "ipython",
    "version": 3
   },
   "file_extension": ".py",
   "mimetype": "text/x-python",
   "name": "python",
   "nbconvert_exporter": "python",
   "pygments_lexer": "ipython3",
   "version": "3.10.4"
  },
  "orig_nbformat": 4
 },
 "nbformat": 4,
 "nbformat_minor": 2
}
