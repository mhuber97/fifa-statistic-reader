{
 "cells": [
  {
   "cell_type": "code",
   "execution_count": 1,
   "metadata": {},
   "outputs": [],
   "source": [
    "import pandas as pd\n",
    "import numpy as np\n",
    "from sqlalchemy import create_engine # Needed for DB connection\n",
    "from sqlalchemy import types\n",
    "from configparser import ConfigParser"
   ]
  },
  {
   "cell_type": "code",
   "execution_count": 2,
   "metadata": {},
   "outputs": [],
   "source": [
    "def establish_connection():\n",
    "    config = ConfigParser()\n",
    "    config.read('config.ini')\n",
    "\n",
    "    # Database settings\n",
    "    driver = config.get('main', 'driver')\n",
    "    username = config.get('main', 'username')\n",
    "    dbname = config.get('main', 'dbname')\n",
    "    password = config.get('main', 'password')\n",
    "    server = config.get('main', 'server')\n",
    "    port = config.get('main', 'port')\n",
    "\n",
    "    # Creating the connection pool for SQL\n",
    "    return create_engine(f'{driver}://{username}:{password}@{server}:{port}/{dbname}')"
   ]
  },
  {
   "cell_type": "code",
   "execution_count": 21,
   "metadata": {},
   "outputs": [],
   "source": [
    "def get_data(engine, table):\n",
    "    with engine.connect() as conn:\n",
    "        return pd.DataFrame(conn.execute('SELECT * FROM project.'+table).all())"
   ]
  },
  {
   "cell_type": "code",
   "execution_count": 24,
   "metadata": {},
   "outputs": [],
   "source": [
    "engine = establish_connection()\n",
    "\n",
    "# Load tables\n",
    "match = get_data(engine, 'match')\n",
    "team = get_data(engine, 'team')\n",
    "team_stats = get_data(engine, 'team_stats')\n",
    "penalty = get_data(engine, 'penalty')"
   ]
  },
  {
   "cell_type": "code",
   "execution_count": 87,
   "metadata": {},
   "outputs": [],
   "source": [
    "columns_to_loop = team_stats.columns[2:]\n",
    "correlations = pd.DataFrame() \n",
    "\n",
    "# Loop all the colum\n",
    "for column in columns_to_loop:\n",
    "    for column_compare in columns_to_loop:\n",
    "        # Check if it's already present or it's the same column\n",
    "        if((column != column_compare) & ((column_compare+\" and \"+column) not in correlations.columns)):\n",
    "            # Retrieve the data \n",
    "            pair = team_stats.loc[(team_stats[column] >= 0) & (team_stats[column_compare] >= 0)]\n",
    "            \n",
    "            # Transform the data to numpy arrays\n",
    "            first_list = pair[column].to_numpy()\n",
    "            second_list = pair[column_compare].to_numpy()\n",
    "            # Compute the Pearson correlation between the retrieved columns\n",
    "            correlations[column+\" and \"+column_compare] = pearsonr(first_list, second_list)\n"
   ]
  },
  {
   "cell_type": "code",
   "execution_count": 90,
   "metadata": {},
   "outputs": [
    {
     "name": "stdout",
     "output_type": "stream",
     "text": [
      "score and shots_on_target            0.682100\n",
      "score and shots                      0.610071\n",
      "shots and shots_on_target            0.523933\n",
      "shots_on_target and shot_accuracy    0.494982\n",
      "possession and pass_accuracy         0.454839\n",
      "shots_on_target and corners          0.404582\n",
      "possession and shot_accuracy         0.376229\n",
      "score and possession                 0.320096\n",
      "shots_on_target and possession       0.316525\n",
      "shots and tackles                    0.309325\n",
      "shots and shot_accuracy              0.291108\n",
      "score and shot_accuracy              0.285546\n",
      "shot_accuracy and pass_accuracy      0.255927\n",
      "shots_on_target and tackles          0.243490\n",
      "tackles and corners                  0.234937\n",
      "shots and possession                 0.199089\n",
      "tackles and fouls                    0.190037\n",
      "score and pass_accuracy              0.189888\n",
      "shots_on_target and pass_accuracy    0.176083\n",
      "shots_on_target and fouls            0.152439\n",
      "tackles and shot_accuracy            0.149533\n",
      "shots and corners                    0.146138\n",
      "shots and fouls                      0.145760\n",
      "shots and pass_accuracy              0.117655\n",
      "possession and corners               0.095764\n",
      "corners and shot_accuracy            0.089268\n",
      "fouls and shot_accuracy              0.065162\n",
      "score and tackles                    0.032662\n",
      "corners and pass_accuracy            0.019601\n",
      "score and corners                    0.016336\n",
      "fouls and corners                    0.005881\n",
      "possession and tackles              -0.005672\n",
      "score and fouls                     -0.035228\n",
      "possession and fouls                -0.066040\n",
      "tackles and pass_accuracy           -0.085433\n",
      "fouls and pass_accuracy             -0.115807\n",
      "Name: 0, dtype: float64\n"
     ]
    },
    {
     "data": {
      "text/plain": [
       "36"
      ]
     },
     "execution_count": 90,
     "metadata": {},
     "output_type": "execute_result"
    }
   ],
   "source": [
    "import csv\n",
    "# Order the correlations\n",
    "ordered_correlations = correlations.iloc[0].sort_values(ascending=False)\n",
    "\n",
    "# Save the correlation to file\n",
    "ordered_correlations.to_csv('pearson_corr.csv', header=False)\n",
    "\n",
    "# Print the correlations\n",
    "print(ordered_correlations)"
   ]
  },
  {
   "cell_type": "code",
   "execution_count": 113,
   "metadata": {},
   "outputs": [
    {
     "data": {
      "image/png": "[encoded data removed]",
      "text/plain": [
       "<Figure size 1008x504 with 1 Axes>"
      ]
     },
     "metadata": {},
     "output_type": "display_data"
    }
   ],
   "source": [
    "import matplotlib.pyplot as plt\n",
    "\n",
    "plt.figure(figsize=(14,7)) # Make it 14x7 inch\n",
    "plt.style.use('seaborn-whitegrid')\n",
    "n, bins, patches = plt.hist(ordered_correlations, facecolor = '#2ab0ff', edgecolor='#169acf', linewidth=0.5)\n",
    "\n",
    "# Adds colors to the plot depending on the intensity\n",
    "for i in range(len(patches)):\n",
    "    patches[i].set_facecolor(plt.cm.viridis(n[i]/max(n)))\n",
    "\n",
    "# Add annotation\n",
    "plt.title('Correlations distribution') \n",
    "plt.xlabel('Pearson Coefficient') \n",
    "plt.ylabel('Number of columns with a certain range of correlation') \n",
    "plt.show()"
   ]
  },
  {
   "cell_type": "code",
   "execution_count": null,
   "metadata": {},
   "outputs": [],
   "source": []
  }
 ],
 "metadata": {
  "interpreter": {
   "hash": "3556cb6ed6dabe3da76a9a6b4fe1fda81306f7b3363884a4fa76b70a9233c560"
  },
  "kernelspec": {
   "display_name": "Python 3.10.4 64-bit (windows store)",
   "language": "python",
   "name": "python3"
  },
  "language_info": {
   "codemirror_mode": {
    "name": "ipython",
    "version": 3
   },
   "file_extension": ".py",
   "mimetype": "text/x-python",
   "name": "python",
   "nbconvert_exporter": "python",
   "pygments_lexer": "ipython3",
   "version": "3.10.4"
  },
  "orig_nbformat": 4
 },
 "nbformat": 4,
 "nbformat_minor": 2
}
